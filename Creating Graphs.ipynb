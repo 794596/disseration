{
 "cells": [
  {
   "cell_type": "code",
   "execution_count": 27,
   "metadata": {
    "scrolled": true
   },
   "outputs": [
    {
     "ename": "SyntaxError",
     "evalue": "invalid syntax (<ipython-input-27-67c77595f03c>, line 31)",
     "output_type": "error",
     "traceback": [
      "\u001b[0;36m  File \u001b[0;32m\"<ipython-input-27-67c77595f03c>\"\u001b[0;36m, line \u001b[0;32m31\u001b[0m\n\u001b[0;31m    plt.savefig('Parallel Karatsuba.jpg', dpi=1000 bbox_inches=\"tight\")\u001b[0m\n\u001b[0m                                                             ^\u001b[0m\n\u001b[0;31mSyntaxError\u001b[0m\u001b[0;31m:\u001b[0m invalid syntax\n"
     ]
    }
   ],
   "source": [
    "import csv\n",
    "import matplotlib.pyplot as plt\n",
    "\n",
    "school = []\n",
    "karatsuba = []\n",
    "parallel = []\n",
    "length = []\n",
    "with open(\"school.csv\") as csvfile:\n",
    "    reader = csv.reader(csvfile, quoting=csv.QUOTE_NONNUMERIC) # change contents to floats\n",
    "    for row in reader: # each row is a list\n",
    "        school.append(row[1])\n",
    "        length.append(row[0])\n",
    "        \n",
    "with open(\"karatsuba.csv\") as csvfile:\n",
    "    reader = csv.reader(csvfile, quoting=csv.QUOTE_NONNUMERIC) # change contents to floats\n",
    "    for row in reader: # each row is a list\n",
    "        karatsuba.append(row[1])\n",
    "        \n",
    "with open(\"parallel.csv\") as csvfile:\n",
    "    reader = csv.reader(csvfile, quoting=csv.QUOTE_NONNUMERIC) # change contents to floats\n",
    "    for row in reader: # each row is a list\n",
    "        parallel.append(row[1])        \n",
    "\n",
    "plt.plot(length, school, label = 'School')\n",
    "plt.plot(length, karatsuba, label = 'karatsuba')\n",
    "plt.plot(length, parallel, label = 'Parallel Karatsuba')\n",
    "plt.legend(loc='best')\n",
    "plt.xlabel('length of integer')\n",
    "plt.ylabel('Time Taken (milliseconds)')\n",
    "\n",
    "plt.savefig('Parallel Karatsuba.jpg', dpi=1000, bbox_inches=\"tight\")\n",
    "\n",
    "plt.show()\n",
    "\n",
    "\n",
    "\n",
    "\n",
    "    "
   ]
  },
  {
   "cell_type": "code",
   "execution_count": null,
   "metadata": {},
   "outputs": [],
   "source": []
  }
 ],
 "metadata": {
  "kernelspec": {
   "display_name": "Python 3",
   "language": "python",
   "name": "python3"
  },
  "language_info": {
   "codemirror_mode": {
    "name": "ipython",
    "version": 3
   },
   "file_extension": ".py",
   "mimetype": "text/x-python",
   "name": "python",
   "nbconvert_exporter": "python",
   "pygments_lexer": "ipython3",
   "version": "3.6.8"
  }
 },
 "nbformat": 4,
 "nbformat_minor": 2
}
